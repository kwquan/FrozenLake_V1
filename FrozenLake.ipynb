{
 "cells": [
  {
   "cell_type": "markdown",
   "metadata": {},
   "source": [
    "# FrozenLake V1\n",
    "### This notebook attempts to solve the FrozenLake-V1 problem[part of OpenAI's gym environments] using Dynamic Programming & Every-Visit Monte Carlo\n",
    "### Description of problem: \n",
    "### The \"frozen lake\" is either a 4x4 or 8x8 grid environment, where the agent[starting from top left grid] attempts to reach the goal[G] without falling into any holes[H]. All transition rewards=0, except for transition into terminal state[reward=1]. If agent falls into hole, it restarts from initial starting position[S]"
   ]
  },
  {
   "cell_type": "markdown",
   "metadata": {},
   "source": [
    "## Part 1: Dynamic Programming "
   ]
  },
  {
   "cell_type": "markdown",
   "metadata": {},
   "source": [
    "#### Import modules "
   ]
  },
  {
   "cell_type": "code",
   "execution_count": 1,
   "metadata": {},
   "outputs": [],
   "source": [
    "from tqdm import tqdm\n",
    "import pandas as pd\n",
    "import numpy as np\n",
    "import matplotlib.pyplot as plt\n",
    "import gym"
   ]
  },
  {
   "cell_type": "markdown",
   "metadata": {},
   "source": [
    "#### Create environment \n",
    "#### In this case, we only consider deterministic problem[where action=down will definitely lead to transition to the state below(for example)] in a 8x8 gridworld"
   ]
  },
  {
   "cell_type": "markdown",
   "metadata": {},
   "source": [
    "We start by creating 3 arrays: \\\n",
    "1) state_values: an array of 64 values(initialised to 0) for recording values for each state \\\n",
    "2) new_state_values: an array of 64 values(initialised to 0) for recording new values for each state \\\n",
    "3) actions: an array of 4 values[0,1,2,3](each representing LEFT,DOWN,RIGHT,UP actions]\n",
    "\n",
    "delta is the difference between new & old state values(initialised to 0) \\\n",
    "theta is the min threshold for a value update to be allowed \\\n",
    "discount=gamma \\\n",
    "episodes = no. of complete training sequences"
   ]
  },
  {
   "cell_type": "code",
   "execution_count": null,
   "metadata": {},
   "outputs": [],
   "source": [
    "env = gym.make('FrozenLake-v1', desc=None,map_name=\"8x8\", is_slippery=False, new_step_api=True)\n",
    "\n",
    "observation, info = env.reset(seed=0, return_info=True)\n",
    "state_values = np.zeros(64)\n",
    "new_state_values = np.zeros(64)\n",
    "actions = np.arange(4)\n",
    "delta, theta, discount, episodes = 0, 0.0001, 0.9, 1000"
   ]
  },
  {
   "cell_type": "markdown",
   "metadata": {},
   "source": [
    "#### Train agent  "
   ]
  },
  {
   "cell_type": "markdown",
   "metadata": {},
   "source": [
    "We start by considering every state[64 in total] \\\n",
    "For each state, we create a list(q_values) to store q_value for every state-action pair \\\n",
    "For each action, we pass state & action to env.env.P to obtain a series of transitions \\\n",
    "For each transition, we get prob, next_state, reward, terminal \\\n",
    "We will use prob, next_state & reward to increment that particular state-action pair's value \\\n",
    "\n",
    "Once completed, we calculate delta(absolute difference between old state value & max(q_values) \\\n",
    "If delta exceeds threshold(theta), we then use it as our new state value \\\n",
    "After each complete sweep, we replace state_values with new_state_values"
   ]
  },
  {
   "cell_type": "code",
   "execution_count": null,
   "metadata": {},
   "outputs": [],
   "source": [
    "for episode in tqdm(range(episodes)):\n",
    "    for state in range(len(state_values)):\n",
    "        q_values = np.zeros(4)\n",
    "        for action in range(len(actions)):\n",
    "            transitions = env.env.P[state][action]\n",
    "            for transition in transitions:\n",
    "                prob, next_state, reward, terminal = transition\n",
    "                q_values[action] += prob*(reward + discount*state_values[next_state])\n",
    "        delta = np.abs(max(q_values) - state_values[state])\n",
    "        if delta > theta:\n",
    "            new_state_values[state] = max(q_values)\n",
    "    state_values = new_state_values        \n",
    "print(f\"Sweep for {episodes} episodes done\")        "
   ]
  },
  {
   "cell_type": "markdown",
   "metadata": {},
   "source": [
    "#### Optimize policy "
   ]
  },
  {
   "cell_type": "markdown",
   "metadata": {},
   "source": [
    "Policy optimization is done after completion of agent training \\\n",
    "Similar steps are followed, with the exception of selecting the index of the action that gives max(q_values) \\\n",
    "If there is a tie, we use np.random.choice to select at random \\\n",
    "Since index is also the action, selected index will be the optimal action for that state \\\n",
    "Finally, update policy for that state using optimal action "
   ]
  },
  {
   "cell_type": "code",
   "execution_count": null,
   "metadata": {},
   "outputs": [],
   "source": [
    "optimal_policy = np.zeros(64)\n",
    "for state in range(len(state_values)):\n",
    "    q_values = np.zeros(4)\n",
    "    for action in range(len(actions)):\n",
    "        transitions = env.env.P[state][action]\n",
    "        for transition in transitions:\n",
    "            prob, next_state, reward, terminal = transition\n",
    "            q_values[action] += prob*(reward + discount*state_values[next_state])\n",
    "    optimal_action = np.random.choice([idx for idx in range(len(q_values)) if q_values[idx] == max(q_values)])\n",
    "    optimal_policy[state] = optimal_action"
   ]
  },
  {
   "cell_type": "markdown",
   "metadata": {},
   "source": [
    "Example of state_values, reshaped as 8x8 array"
   ]
  },
  {
   "cell_type": "code",
   "execution_count": null,
   "metadata": {},
   "outputs": [],
   "source": [
    "state_values.reshape(8,8)"
   ]
  },
  {
   "cell_type": "markdown",
   "metadata": {},
   "source": [
    "#### Rendering "
   ]
  },
  {
   "cell_type": "markdown",
   "metadata": {},
   "source": [
    "This is where we observe our trained agent in action \\\n",
    "Notice how our agent is able to find an optimal path to the goal, while avoiding all holes"
   ]
  },
  {
   "cell_type": "code",
   "execution_count": null,
   "metadata": {},
   "outputs": [],
   "source": [
    "env = gym.make('FrozenLake-v1', desc=None,map_name=\"8x8\", is_slippery=False, render_mode='human')\n",
    "observation, info = env.reset(seed=0, return_info=True)\n",
    "env.render()\n",
    "for episode in range(100):\n",
    "    state=observation\n",
    "    observation, reward, done, info = env.step(action = int(optimal_policy[state]))\n",
    "    env.render()\n",
    "    \n",
    "    if done:  \n",
    "        break\n",
    "        \n",
    "env.close()         "
   ]
  },
  {
   "cell_type": "markdown",
   "metadata": {},
   "source": [
    "#### Conclusion "
   ]
  },
  {
   "cell_type": "markdown",
   "metadata": {},
   "source": [
    "As demonstrated, the usage of dynamic programming is able to find an optimal solution for this simple 8x8 gridworld problem \\\n",
    "However, do note that DP is seldom used due to it's computational complexity although it is important to understand it's concepts since they will be further developed upon in other methods"
   ]
  },
  {
   "cell_type": "markdown",
   "metadata": {},
   "source": [
    "## Part 2: Every-Visit Monte Carlo "
   ]
  },
  {
   "cell_type": "markdown",
   "metadata": {},
   "source": [
    "Next, we attempt every-visit monte carlo on the same environment \\\n",
    "Logic is as followed:\n",
    "For each episode, \\\n",
    "1) Calculate action_probability[action_prob]. If it's < epsilon, take exploratory action. Otherwise, act greedily \\\n",
    "2) Pass action to env.step() to obtain next_state & reward \\\n",
    "3) Append [state,action,reward] to episode list \\\n",
    "4) Update state as next_state\n",
    "\n",
    "Upon termination: \\\n",
    "Initialise return[G]=0 \\\n",
    "To facilitate return calculation for every state-action pair, we work backwards \\\n",
    "Starting from last state-action pair, set it's reward[G[last]]=reward[last] \\\n",
    "2nd-last state-action pair will have G[2nd-last] = reward[2nd-last] + G[last] \\\n",
    "3rd-last state-action pair will have G[3rd-last] = reward[3rd-last] + g[2nd-last] \\\n",
    "And so on...\n",
    "\n",
    "For each state-action pair visited:\n",
    "append it's G to returns[(state,action)] \\\n",
    "returns is a dictionary containing all Gs for every state-action pair visited \\\n",
    "Idea is to take average of each returns[(state,action)] as new action-values \n",
    "\n",
    "Incremental update: \\\n",
    "Instead of using sum(returns[(state,action)])/len(returns[(state,action)]) for means calculation, \\\n",
    "we can use returns[(s, a)] + (returns[(s, a)][-1] - action_values[s, a])/len(returns[(s, a)]) to get same result faster\n",
    "\n",
    "New episode: \\\n",
    "After each episode, reset terminate=False, reset env{env.reset()) & reset episode=[] \n",
    "\n",
    "Policy update: \\\n",
    "policy list is an array of size (,64), each representing the optimal action for each state \\\n",
    "Loop through each state & take argmax of each state's action_value to get optimal action \\\n",
    "Ties are broken randomly \n"
   ]
  },
  {
   "cell_type": "code",
   "execution_count": 2,
   "metadata": {},
   "outputs": [],
   "source": [
    "env = gym.make('FrozenLake-v1', desc=None,map_name=\"8x8\", is_slippery=False, new_step_api=True)\n",
    "\n",
    "state, info = env.reset(seed=0, return_info=True)\n",
    "action_values = np.zeros((64,4))\n",
    "policy = np.zeros(64)\n",
    "episodes = 40000\n",
    "epsilon = 0.01\n",
    "total_rewards = []\n",
    "average_rewards = []\n",
    "terminate = False\n",
    "returns = {}\n",
    "episode = []"
   ]
  },
  {
   "cell_type": "code",
   "execution_count": 3,
   "metadata": {},
   "outputs": [
    {
     "name": "stderr",
     "output_type": "stream",
     "text": [
      "100%|██████████| 40000/40000 [31:31<00:00, 21.15it/s]"
     ]
    },
    {
     "name": "stdout",
     "output_type": "stream",
     "text": [
      "agent training for 40000 episodes done\n"
     ]
    },
    {
     "name": "stderr",
     "output_type": "stream",
     "text": [
      "\n"
     ]
    }
   ],
   "source": [
    "for i in tqdm(range(episodes)):\n",
    "    while not terminate:\n",
    "        action_prob = np.random.uniform()\n",
    "        if action_prob < epsilon:\n",
    "            action = env.action_space.sample()\n",
    "        else:\n",
    "            action = np.random.choice([idx for idx in range(4) if action_values[state,idx] == max(action_values[state])])\n",
    "        next_state, reward, terminate, truncated, info = env.step(action)\n",
    "        episode.append([state,action,reward])\n",
    "        total_rewards.append(reward)\n",
    "        state = next_state  \n",
    "    G = 0\n",
    "    for i in reversed(range(len(episode))):\n",
    "        s,a,r = episode[i]\n",
    "        G += r\n",
    "        if returns.get((s,a)):\n",
    "            returns[(s,a)].append(G)\n",
    "        else:\n",
    "            returns[(s,a)] = [G]\n",
    "                \n",
    "\n",
    "    #action_values[s, a] = sum(returns[(s,a)])/len(returns[(s,a)])\n",
    "        action_values[s, a] += (returns[(s, a)][-1] - action_values[s, a])/len(returns[(s, a)])\n",
    "    \n",
    "    for j in range(len(policy)-1):\n",
    "        policy[j] = np.random.choice([idx for idx in range(4) if action_values[j,idx] == max(action_values[j])])\n",
    "        \n",
    "    state = env.reset() \n",
    "    episode = []  \n",
    "    terminate = False\n",
    "    \n",
    "    if i%100==0:\n",
    "#         print(f\"average reward for batch {i%100}: {sum(total_rewards)/len(total_rewards)}\")\n",
    "        average_rewards.append(sum(total_rewards)/len(total_rewards))\n",
    "        \n",
    "print(f\"agent training for {episodes} episodes done\")"
   ]
  },
  {
   "cell_type": "markdown",
   "metadata": {},
   "source": [
    "#### Plot average rewards over time[calculated for every ith batch] "
   ]
  },
  {
   "cell_type": "markdown",
   "metadata": {},
   "source": [
    "Let's calculate average rewards everytime we hit i%100 == 0 & plot it on a graph \\\n",
    "Observe that average rewards are increasing over time"
   ]
  },
  {
   "cell_type": "code",
   "execution_count": 4,
   "metadata": {},
   "outputs": [
    {
     "data": {
      "image/png": "[encoded data removed]",
      "text/plain": [
       "<Figure size 432x288 with 1 Axes>"
      ]
     },
     "metadata": {
      "needs_background": "light"
     },
     "output_type": "display_data"
    }
   ],
   "source": [
    "plt.plot(average_rewards)\n",
    "plt.xlabel(\"Episode Batch\")\n",
    "plt.ylabel(\"Average \\n Rewards\",rotation=0)\n",
    "plt.ylim(0,round(max(average_rewards),4))\n",
    "plt.tight_layout()\n",
    "plt.show()"
   ]
  },
  {
   "cell_type": "code",
   "execution_count": 5,
   "metadata": {},
   "outputs": [
    {
     "data": {
      "text/plain": [
       "array([[3., 2., 2., 2., 2., 1., 2., 1.],\n",
       "       [3., 1., 3., 3., 2., 2., 1., 3.],\n",
       "       [3., 3., 0., 1., 1., 2., 2., 1.],\n",
       "       [1., 0., 0., 0., 0., 2., 2., 1.],\n",
       "       [3., 3., 0., 3., 3., 0., 3., 1.],\n",
       "       [3., 2., 0., 2., 3., 0., 2., 1.],\n",
       "       [3., 0., 3., 1., 3., 2., 3., 1.],\n",
       "       [2., 3., 1., 1., 3., 0., 3., 0.]])"
      ]
     },
     "execution_count": 5,
     "metadata": {},
     "output_type": "execute_result"
    }
   ],
   "source": [
    "policy.reshape(8,8)"
   ]
  },
  {
   "cell_type": "markdown",
   "metadata": {},
   "source": [
    "#### Rendering[If needed] "
   ]
  },
  {
   "cell_type": "code",
   "execution_count": null,
   "metadata": {},
   "outputs": [],
   "source": [
    "env = gym.make('FrozenLake-v1', desc=None,map_name=\"8x8\", is_slippery=False, render_mode='human')\n",
    "observation, info = env.reset(seed=0, return_info=True)\n",
    "env.render()\n",
    "for episode in range(100):\n",
    "    state=observation\n",
    "    observation, reward, done, info = env.step(action = int(policy[state]))\n",
    "    env.render()\n",
    "    \n",
    "    if done:  \n",
    "        break\n",
    "        \n",
    "env.close()  "
   ]
  },
  {
   "cell_type": "markdown",
   "metadata": {},
   "source": [
    "#### Conclusion\n",
    "As observed from the final policy, every-visit MC does not give a perfect solution with current params \\\n",
    "Draw out the path given by optimal policy on a 8x8 grid to have a clearer picture \\\n",
    "Although most most states have policies pointing in the \"right\" directions, we observe a few states with incorrect policies[that does not point in the optimal direction] \\\n",
    "With more episodes however, we should be able to correct this issue and achieve a good solution"
   ]
  }
 ],
 "metadata": {
  "kernelspec": {
   "display_name": "Python 3",
   "language": "python",
   "name": "python3"
  },
  "language_info": {
   "codemirror_mode": {
    "name": "ipython",
    "version": 3
   },
   "file_extension": ".py",
   "mimetype": "text/x-python",
   "name": "python",
   "nbconvert_exporter": "python",
   "pygments_lexer": "ipython3",
   "version": "3.8.3"
  }
 },
 "nbformat": 4,
 "nbformat_minor": 4
}
